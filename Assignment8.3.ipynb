{
 "cells": [
  {
   "cell_type": "code",
   "execution_count": null,
   "metadata": {
    "collapsed": true
   },
   "outputs": [],
   "source": [
    "# Problem Statement:\n",
    "# You take the SAT and score 1100. The mean score for the SAT is 1026 and the standard deviation is 209. \n",
    "# How well did you score on the test compared to the average test taker?\n",
    "\n",
    "Solution:\n",
    "Step 1: Write the formula and determine X-value, Mean and standard deviation in the problem statement.\n",
    "    Where, X-value = 1100, Mean (μ) = 1026 and Standard Deviation (σ) = 209\n",
    "    Z = (X - μ) /  σ\n",
    "\n",
    "Step 2: Substitute and calculate the answer\n",
    "    Z = (1100 - 1026) /  209 = 0.354 \n",
    "\n",
    "Step 3: Refer the z-value in the z-table to determine the percentage of test-takers scored below you. \n",
    "        A z-score of 0.354 is 0.1368 which is 13.68%\n",
    "        Since, z-table shown has scores for the right of the mean. It is required to add .500 ( 50%) for all of the area left of the mean.\n",
    "        Therefore 0.354 + 0.5000* = .6368 or 63.68%.\n"
   ]
  }
 ],
 "metadata": {
  "kernelspec": {
   "display_name": "Python 3",
   "language": "python",
   "name": "python3"
  },
  "language_info": {
   "codemirror_mode": {
    "name": "ipython",
    "version": 3
   },
   "file_extension": ".py",
   "mimetype": "text/x-python",
   "name": "python",
   "nbconvert_exporter": "python",
   "pygments_lexer": "ipython3",
   "version": "3.6.3"
  }
 },
 "nbformat": 4,
 "nbformat_minor": 2
}
